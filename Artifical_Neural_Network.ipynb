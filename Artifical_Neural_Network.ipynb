{
 "cells": [
  {
   "cell_type": "markdown",
   "metadata": {},
   "source": [
    "## Importing Libraries"
   ]
  },
  {
   "cell_type": "code",
   "execution_count": 1,
   "metadata": {},
   "outputs": [],
   "source": [
    "import numpy as np\n",
    "import pandas as pd"
   ]
  },
  {
   "cell_type": "markdown",
   "metadata": {},
   "source": [
    "## Importing the dataset"
   ]
  },
  {
   "cell_type": "code",
   "execution_count": 2,
   "metadata": {},
   "outputs": [],
   "source": [
    "dataset = pd.read_csv('Churn_Modelling.csv')"
   ]
  },
  {
   "cell_type": "code",
   "execution_count": 3,
   "metadata": {},
   "outputs": [],
   "source": [
    "X = dataset.iloc[:,3:13]\n",
    "y = dataset.iloc[:,13]"
   ]
  },
  {
   "cell_type": "markdown",
   "metadata": {},
   "source": [
    "### Creating dummy variable"
   ]
  },
  {
   "cell_type": "code",
   "execution_count": 4,
   "metadata": {},
   "outputs": [],
   "source": [
    "geography = pd.get_dummies(X['Geography'],drop_first=True)\n",
    "gender = pd.get_dummies(X['Gender'],drop_first=True)"
   ]
  },
  {
   "cell_type": "markdown",
   "metadata": {},
   "source": [
    "## Concatenate the dataframe"
   ]
  },
  {
   "cell_type": "code",
   "execution_count": 5,
   "metadata": {},
   "outputs": [],
   "source": [
    "X = pd.concat([X,geography,gender], axis=1)"
   ]
  },
  {
   "cell_type": "markdown",
   "metadata": {},
   "source": [
    "### Drop unnescessary columns"
   ]
  },
  {
   "cell_type": "code",
   "execution_count": 6,
   "metadata": {},
   "outputs": [],
   "source": [
    "X = X.drop(['Geography','Gender'],axis=1)"
   ]
  },
  {
   "cell_type": "markdown",
   "metadata": {},
   "source": [
    "### Splitting the dataset into training and test data"
   ]
  },
  {
   "cell_type": "code",
   "execution_count": 8,
   "metadata": {},
   "outputs": [],
   "source": [
    "from sklearn.model_selection import train_test_split"
   ]
  },
  {
   "cell_type": "code",
   "execution_count": 9,
   "metadata": {},
   "outputs": [],
   "source": [
    "X_train, X_test, y_train, y_test = train_test_split(X,y,test_size=0.2,random_state=0)"
   ]
  },
  {
   "cell_type": "markdown",
   "metadata": {},
   "source": [
    "## Feature Scaling"
   ]
  },
  {
   "cell_type": "code",
   "execution_count": 10,
   "metadata": {},
   "outputs": [],
   "source": [
    "from sklearn.preprocessing import StandardScaler"
   ]
  },
  {
   "cell_type": "code",
   "execution_count": 11,
   "metadata": {},
   "outputs": [],
   "source": [
    "sc = StandardScaler()"
   ]
  },
  {
   "cell_type": "code",
   "execution_count": 12,
   "metadata": {},
   "outputs": [],
   "source": [
    "X_train = sc.fit_transform(X_train)\n",
    "X_test  = sc.transform(X_test)"
   ]
  },
  {
   "cell_type": "markdown",
   "metadata": {},
   "source": [
    "### Let's make it ANN"
   ]
  },
  {
   "cell_type": "markdown",
   "metadata": {},
   "source": [
    "### Import Keras library and packages"
   ]
  },
  {
   "cell_type": "code",
   "execution_count": 15,
   "metadata": {},
   "outputs": [],
   "source": [
    "import keras\n",
    "from keras.models import Sequential\n",
    "from keras.layers import Dense\n",
    "from keras.layers import LeakyReLU,PReLU,ELU\n",
    "from keras.layers import Dropout"
   ]
  },
  {
   "cell_type": "code",
   "execution_count": 16,
   "metadata": {},
   "outputs": [
    {
     "name": "stdout",
     "output_type": "stream",
     "text": [
      "WARNING:tensorflow:From C:\\Users\\vinay.nanjappa\\AppData\\Local\\Continuum\\anaconda3\\lib\\site-packages\\keras\\backend\\tensorflow_backend.py:66: The name tf.get_default_graph is deprecated. Please use tf.compat.v1.get_default_graph instead.\n",
      "\n"
     ]
    }
   ],
   "source": [
    "## Initializing the ANN\n",
    "classifier = Sequential()"
   ]
  },
  {
   "cell_type": "code",
   "execution_count": 17,
   "metadata": {},
   "outputs": [
    {
     "name": "stdout",
     "output_type": "stream",
     "text": [
      "WARNING:tensorflow:From C:\\Users\\vinay.nanjappa\\AppData\\Local\\Continuum\\anaconda3\\lib\\site-packages\\keras\\backend\\tensorflow_backend.py:541: The name tf.placeholder is deprecated. Please use tf.compat.v1.placeholder instead.\n",
      "\n",
      "WARNING:tensorflow:From C:\\Users\\vinay.nanjappa\\AppData\\Local\\Continuum\\anaconda3\\lib\\site-packages\\keras\\backend\\tensorflow_backend.py:4432: The name tf.random_uniform is deprecated. Please use tf.random.uniform instead.\n",
      "\n"
     ]
    },
    {
     "name": "stderr",
     "output_type": "stream",
     "text": [
      "C:\\Users\\vinay.nanjappa\\AppData\\Local\\Continuum\\anaconda3\\lib\\site-packages\\ipykernel_launcher.py:2: UserWarning: Update your `Dense` call to the Keras 2 API: `Dense(kernel_initializer=\"he_uniform\", activation=\"relu\", input_dim=11, units=6)`\n",
      "  \n"
     ]
    }
   ],
   "source": [
    "## Adding the input layer and first hidden layer\n",
    "classifier.add(Dense(output_dim=6,kernel_initializer='he_uniform',activation='relu',input_dim = 11))"
   ]
  },
  {
   "cell_type": "code",
   "execution_count": 18,
   "metadata": {},
   "outputs": [
    {
     "name": "stderr",
     "output_type": "stream",
     "text": [
      "C:\\Users\\vinay.nanjappa\\AppData\\Local\\Continuum\\anaconda3\\lib\\site-packages\\ipykernel_launcher.py:2: UserWarning: Update your `Dense` call to the Keras 2 API: `Dense(kernel_initializer=\"he_uniform\", activation=\"relu\", units=6)`\n",
      "  \n"
     ]
    }
   ],
   "source": [
    "## Adding second hidden layer\n",
    "classifier.add(Dense(output_dim=6, kernel_initializer='he_uniform',activation='relu'))"
   ]
  },
  {
   "cell_type": "code",
   "execution_count": 19,
   "metadata": {},
   "outputs": [
    {
     "name": "stderr",
     "output_type": "stream",
     "text": [
      "C:\\Users\\vinay.nanjappa\\AppData\\Local\\Continuum\\anaconda3\\lib\\site-packages\\ipykernel_launcher.py:2: UserWarning: Update your `Dense` call to the Keras 2 API: `Dense(kernel_initializer=\"glorot_uniform\", activation=\"sigmoid\", units=1)`\n",
      "  \n"
     ]
    }
   ],
   "source": [
    "## Adding the output layer\n",
    "classifier.add(Dense(output_dim = 1, kernel_initializer = 'glorot_uniform', activation='sigmoid'))"
   ]
  },
  {
   "cell_type": "code",
   "execution_count": 20,
   "metadata": {},
   "outputs": [
    {
     "name": "stdout",
     "output_type": "stream",
     "text": [
      "WARNING:tensorflow:From C:\\Users\\vinay.nanjappa\\AppData\\Local\\Continuum\\anaconda3\\lib\\site-packages\\keras\\optimizers.py:793: The name tf.train.Optimizer is deprecated. Please use tf.compat.v1.train.Optimizer instead.\n",
      "\n",
      "WARNING:tensorflow:From C:\\Users\\vinay.nanjappa\\AppData\\Local\\Continuum\\anaconda3\\lib\\site-packages\\keras\\backend\\tensorflow_backend.py:3657: The name tf.log is deprecated. Please use tf.math.log instead.\n",
      "\n",
      "WARNING:tensorflow:From C:\\Users\\vinay.nanjappa\\AppData\\Local\\Continuum\\anaconda3\\lib\\site-packages\\tensorflow\\python\\ops\\nn_impl.py:180: add_dispatch_support.<locals>.wrapper (from tensorflow.python.ops.array_ops) is deprecated and will be removed in a future version.\n",
      "Instructions for updating:\n",
      "Use tf.where in 2.0, which has the same broadcast rule as np.where\n"
     ]
    }
   ],
   "source": [
    "## Compiling the ANN\n",
    "classifier.compile(optimizer='Adamax',loss='binary_crossentropy', metrics = ['accuracy'])"
   ]
  },
  {
   "cell_type": "code",
   "execution_count": 21,
   "metadata": {},
   "outputs": [
    {
     "name": "stderr",
     "output_type": "stream",
     "text": [
      "C:\\Users\\vinay.nanjappa\\AppData\\Local\\Continuum\\anaconda3\\lib\\site-packages\\ipykernel_launcher.py:2: UserWarning: The `nb_epoch` argument in `fit` has been renamed `epochs`.\n",
      "  \n"
     ]
    },
    {
     "name": "stdout",
     "output_type": "stream",
     "text": [
      "WARNING:tensorflow:From C:\\Users\\vinay.nanjappa\\AppData\\Local\\Continuum\\anaconda3\\lib\\site-packages\\keras\\backend\\tensorflow_backend.py:1033: The name tf.assign_add is deprecated. Please use tf.compat.v1.assign_add instead.\n",
      "\n",
      "Train on 5359 samples, validate on 2641 samples\n",
      "Epoch 1/100\n",
      "5359/5359 [==============================] - 3s 492us/step - loss: 0.5729 - acc: 0.7916 - val_loss: 0.5073 - val_acc: 0.7955\n",
      "Epoch 2/100\n",
      "5359/5359 [==============================] - 2s 324us/step - loss: 0.4955 - acc: 0.7962 - val_loss: 0.4693 - val_acc: 0.7959\n",
      "Epoch 3/100\n",
      "5359/5359 [==============================] - 2s 283us/step - loss: 0.4627 - acc: 0.7977 - val_loss: 0.4534 - val_acc: 0.7955\n",
      "Epoch 4/100\n",
      "5359/5359 [==============================] - 2s 287us/step - loss: 0.4473 - acc: 0.8005 - val_loss: 0.4453 - val_acc: 0.7952\n",
      "Epoch 5/100\n",
      "5359/5359 [==============================] - 2s 308us/step - loss: 0.4392 - acc: 0.8015 - val_loss: 0.4409 - val_acc: 0.7948\n",
      "Epoch 6/100\n",
      "5359/5359 [==============================] - 2s 295us/step - loss: 0.4345 - acc: 0.8029 - val_loss: 0.4378 - val_acc: 0.7967\n",
      "Epoch 7/100\n",
      "5359/5359 [==============================] - 2s 292us/step - loss: 0.4307 - acc: 0.8071 - val_loss: 0.4355 - val_acc: 0.8016\n",
      "Epoch 8/100\n",
      "5359/5359 [==============================] - 2s 334us/step - loss: 0.4279 - acc: 0.8121 - val_loss: 0.4336 - val_acc: 0.8058\n",
      "Epoch 9/100\n",
      "5359/5359 [==============================] - 2s 286us/step - loss: 0.4255 - acc: 0.8141 - val_loss: 0.4319 - val_acc: 0.8084\n",
      "Epoch 10/100\n",
      "5359/5359 [==============================] - 1s 263us/step - loss: 0.4233 - acc: 0.8158 - val_loss: 0.4304 - val_acc: 0.8126\n",
      "Epoch 11/100\n",
      "5359/5359 [==============================] - 1s 276us/step - loss: 0.4213 - acc: 0.8179 - val_loss: 0.4293 - val_acc: 0.8126\n",
      "Epoch 12/100\n",
      "5359/5359 [==============================] - 2s 319us/step - loss: 0.4193 - acc: 0.8197 - val_loss: 0.4286 - val_acc: 0.8103\n",
      "Epoch 13/100\n",
      "5359/5359 [==============================] - 2s 294us/step - loss: 0.4175 - acc: 0.8199 - val_loss: 0.4268 - val_acc: 0.8126\n",
      "Epoch 14/100\n",
      "5359/5359 [==============================] - 2s 349us/step - loss: 0.4159 - acc: 0.8216 - val_loss: 0.4264 - val_acc: 0.8099\n",
      "Epoch 15/100\n",
      "5359/5359 [==============================] - 2s 417us/step - loss: 0.4138 - acc: 0.8240 - val_loss: 0.4252 - val_acc: 0.8148\n",
      "Epoch 16/100\n",
      "5359/5359 [==============================] - 2s 396us/step - loss: 0.4117 - acc: 0.8240 - val_loss: 0.4252 - val_acc: 0.8095\n",
      "Epoch 17/100\n",
      "5359/5359 [==============================] - 2s 344us/step - loss: 0.4102 - acc: 0.8272 - val_loss: 0.4233 - val_acc: 0.8141\n",
      "Epoch 18/100\n",
      "5359/5359 [==============================] - 2s 383us/step - loss: 0.4084 - acc: 0.8272 - val_loss: 0.4219 - val_acc: 0.8179\n",
      "Epoch 19/100\n",
      "5359/5359 [==============================] - 2s 414us/step - loss: 0.4070 - acc: 0.8298 - val_loss: 0.4224 - val_acc: 0.8118\n",
      "Epoch 20/100\n",
      "5359/5359 [==============================] - 2s 353us/step - loss: 0.4056 - acc: 0.8274 - val_loss: 0.4201 - val_acc: 0.8164\n",
      "Epoch 21/100\n",
      "5359/5359 [==============================] - 2s 325us/step - loss: 0.4045 - acc: 0.8293 - val_loss: 0.4198 - val_acc: 0.8148\n",
      "Epoch 22/100\n",
      "5359/5359 [==============================] - 2s 357us/step - loss: 0.4034 - acc: 0.8296 - val_loss: 0.4187 - val_acc: 0.8164\n",
      "Epoch 23/100\n",
      "5359/5359 [==============================] - 2s 340us/step - loss: 0.4025 - acc: 0.8309 - val_loss: 0.4182 - val_acc: 0.8179\n",
      "Epoch 24/100\n",
      "5359/5359 [==============================] - 2s 331us/step - loss: 0.4017 - acc: 0.8311 - val_loss: 0.4182 - val_acc: 0.8171\n",
      "Epoch 25/100\n",
      "5359/5359 [==============================] - 2s 365us/step - loss: 0.4009 - acc: 0.8317 - val_loss: 0.4172 - val_acc: 0.8198\n",
      "Epoch 26/100\n",
      "5359/5359 [==============================] - 3s 472us/step - loss: 0.4001 - acc: 0.8328 - val_loss: 0.4182 - val_acc: 0.8171\n",
      "Epoch 27/100\n",
      "5359/5359 [==============================] - 2s 363us/step - loss: 0.3997 - acc: 0.8328 - val_loss: 0.4167 - val_acc: 0.8186\n",
      "Epoch 28/100\n",
      "5359/5359 [==============================] - 2s 310us/step - loss: 0.3986 - acc: 0.8315 - val_loss: 0.4169 - val_acc: 0.8190\n",
      "Epoch 29/100\n",
      "5359/5359 [==============================] - 2s 319us/step - loss: 0.3980 - acc: 0.8313 - val_loss: 0.4146 - val_acc: 0.8209\n",
      "Epoch 30/100\n",
      "5359/5359 [==============================] - 2s 321us/step - loss: 0.3974 - acc: 0.8339 - val_loss: 0.4153 - val_acc: 0.8201\n",
      "Epoch 31/100\n",
      "5359/5359 [==============================] - 2s 311us/step - loss: 0.3970 - acc: 0.8328 - val_loss: 0.4144 - val_acc: 0.8198\n",
      "Epoch 32/100\n",
      "5359/5359 [==============================] - 2s 298us/step - loss: 0.3963 - acc: 0.8332 - val_loss: 0.4138 - val_acc: 0.8201\n",
      "Epoch 33/100\n",
      "5359/5359 [==============================] - 1s 274us/step - loss: 0.3957 - acc: 0.8337 - val_loss: 0.4134 - val_acc: 0.8209\n",
      "Epoch 34/100\n",
      "5359/5359 [==============================] - 1s 270us/step - loss: 0.3950 - acc: 0.8337 - val_loss: 0.4129 - val_acc: 0.8236\n",
      "Epoch 35/100\n",
      "5359/5359 [==============================] - 2s 294us/step - loss: 0.3943 - acc: 0.8336 - val_loss: 0.4124 - val_acc: 0.8217\n",
      "Epoch 36/100\n",
      "5359/5359 [==============================] - 2s 288us/step - loss: 0.3936 - acc: 0.8343 - val_loss: 0.4125 - val_acc: 0.8213\n",
      "Epoch 37/100\n",
      "5359/5359 [==============================] - 2s 385us/step - loss: 0.3928 - acc: 0.8354 - val_loss: 0.4114 - val_acc: 0.8220\n",
      "Epoch 38/100\n",
      "5359/5359 [==============================] - 2s 420us/step - loss: 0.3919 - acc: 0.8339 - val_loss: 0.4108 - val_acc: 0.8213\n",
      "Epoch 39/100\n",
      "5359/5359 [==============================] - 2s 411us/step - loss: 0.3912 - acc: 0.8347 - val_loss: 0.4103 - val_acc: 0.8224\n",
      "Epoch 40/100\n",
      "5359/5359 [==============================] - 2s 288us/step - loss: 0.3902 - acc: 0.8343 - val_loss: 0.4092 - val_acc: 0.8228\n",
      "Epoch 41/100\n",
      "5359/5359 [==============================] - 2s 286us/step - loss: 0.3888 - acc: 0.8337 - val_loss: 0.4085 - val_acc: 0.8228\n",
      "Epoch 42/100\n",
      "5359/5359 [==============================] - 2s 320us/step - loss: 0.3877 - acc: 0.8349 - val_loss: 0.4073 - val_acc: 0.8243\n",
      "Epoch 43/100\n",
      "5359/5359 [==============================] - 2s 372us/step - loss: 0.3866 - acc: 0.8341 - val_loss: 0.4064 - val_acc: 0.8228\n",
      "Epoch 44/100\n",
      "5359/5359 [==============================] - 2s 356us/step - loss: 0.3850 - acc: 0.8364 - val_loss: 0.4059 - val_acc: 0.8232\n",
      "Epoch 45/100\n",
      "5359/5359 [==============================] - 2s 348us/step - loss: 0.3840 - acc: 0.8354 - val_loss: 0.4038 - val_acc: 0.8247\n",
      "Epoch 46/100\n",
      "5359/5359 [==============================] - 1s 243us/step - loss: 0.3825 - acc: 0.8362 - val_loss: 0.4030 - val_acc: 0.8251\n",
      "Epoch 47/100\n",
      "5359/5359 [==============================] - 1s 213us/step - loss: 0.3808 - acc: 0.8367 - val_loss: 0.4016 - val_acc: 0.8254\n",
      "Epoch 48/100\n",
      "5359/5359 [==============================] - 1s 201us/step - loss: 0.3794 - acc: 0.8384 - val_loss: 0.4005 - val_acc: 0.8258\n",
      "Epoch 49/100\n",
      "5359/5359 [==============================] - 1s 277us/step - loss: 0.3776 - acc: 0.8395 - val_loss: 0.3990 - val_acc: 0.8266\n",
      "Epoch 50/100\n",
      "5359/5359 [==============================] - 2s 420us/step - loss: 0.3573 - acc: 0.8470 - val_loss: 0.3838 - val_acc: 0.8304\n",
      "Epoch 60/100\n",
      "5359/5359 [==============================] - 4s 772us/step - loss: 0.3556 - acc: 0.8490 - val_loss: 0.3824 - val_acc: 0.8338\n",
      "Epoch 61/100\n",
      "5359/5359 [==============================] - 3s 571us/step - loss: 0.3537 - acc: 0.8489 - val_loss: 0.3809 - val_acc: 0.8357\n",
      "Epoch 62/100\n",
      "5359/5359 [==============================] - 3s 522us/step - loss: 0.3521 - acc: 0.8498 - val_loss: 0.3806 - val_acc: 0.8395\n",
      "Epoch 63/100\n",
      "5359/5359 [==============================] - 2s 460us/step - loss: 0.3510 - acc: 0.8509 - val_loss: 0.3796 - val_acc: 0.8402\n",
      "Epoch 64/100\n",
      "5359/5359 [==============================] - 2s 341us/step - loss: 0.3495 - acc: 0.8515 - val_loss: 0.3793 - val_acc: 0.8398\n",
      "Epoch 65/100\n",
      "5359/5359 [==============================] - 2s 427us/step - loss: 0.3488 - acc: 0.8537 - val_loss: 0.3785 - val_acc: 0.8398\n",
      "Epoch 66/100\n",
      "5359/5359 [==============================] - 3s 479us/step - loss: 0.3476 - acc: 0.8546 - val_loss: 0.3767 - val_acc: 0.8432\n",
      "Epoch 67/100\n"
     ]
    },
    {
     "name": "stdout",
     "output_type": "stream",
     "text": [
      "5359/5359 [==============================] - 2s 358us/step - loss: 0.3466 - acc: 0.8556 - val_loss: 0.3765 - val_acc: 0.8425\n",
      "Epoch 68/100\n",
      "5359/5359 [==============================] - 3s 521us/step - loss: 0.3453 - acc: 0.8548 - val_loss: 0.3764 - val_acc: 0.8406\n",
      "Epoch 69/100\n",
      "5359/5359 [==============================] - 4s 768us/step - loss: 0.3449 - acc: 0.8572 - val_loss: 0.3749 - val_acc: 0.8455\n",
      "Epoch 70/100\n",
      "5359/5359 [==============================] - 3s 516us/step - loss: 0.3440 - acc: 0.8546 - val_loss: 0.3742 - val_acc: 0.8451\n",
      "Epoch 71/100\n",
      "5359/5359 [==============================] - 3s 548us/step - loss: 0.3434 - acc: 0.8561 - val_loss: 0.3735 - val_acc: 0.8455\n",
      "Epoch 72/100\n",
      "5359/5359 [==============================] - 2s 368us/step - loss: 0.3426 - acc: 0.8561 - val_loss: 0.3735 - val_acc: 0.8436\n",
      "Epoch 73/100\n",
      "5359/5359 [==============================] - 2s 355us/step - loss: 0.3420 - acc: 0.8578 - val_loss: 0.3727 - val_acc: 0.8444\n",
      "Epoch 74/100\n",
      "5359/5359 [==============================] - 2s 311us/step - loss: 0.3415 - acc: 0.8576 - val_loss: 0.3724 - val_acc: 0.8444\n",
      "Epoch 75/100\n",
      "5359/5359 [==============================] - 2s 281us/step - loss: 0.3413 - acc: 0.8586 - val_loss: 0.3722 - val_acc: 0.8440\n",
      "Epoch 76/100\n",
      "5359/5359 [==============================] - 1s 270us/step - loss: 0.3406 - acc: 0.8606 - val_loss: 0.3713 - val_acc: 0.8478\n",
      "Epoch 77/100\n",
      "5359/5359 [==============================] - 1s 273us/step - loss: 0.3402 - acc: 0.8582 - val_loss: 0.3712 - val_acc: 0.8455\n",
      "Epoch 78/100\n",
      "5359/5359 [==============================] - 2s 304us/step - loss: 0.3397 - acc: 0.8591 - val_loss: 0.3708 - val_acc: 0.8463\n",
      "Epoch 79/100\n",
      "5359/5359 [==============================] - 1s 277us/step - loss: 0.3396 - acc: 0.8595 - val_loss: 0.3706 - val_acc: 0.8482\n",
      "Epoch 80/100\n",
      "5359/5359 [==============================] - 2s 342us/step - loss: 0.3388 - acc: 0.8600 - val_loss: 0.3714 - val_acc: 0.8489\n",
      "Epoch 81/100\n",
      "5359/5359 [==============================] - 3s 523us/step - loss: 0.3387 - acc: 0.8602 - val_loss: 0.3704 - val_acc: 0.8485\n",
      "Epoch 82/100\n",
      "5359/5359 [==============================] - 2s 424us/step - loss: 0.3385 - acc: 0.8599 - val_loss: 0.3696 - val_acc: 0.8470\n",
      "Epoch 83/100\n",
      "5359/5359 [==============================] - 2s 344us/step - loss: 0.3381 - acc: 0.8614 - val_loss: 0.3690 - val_acc: 0.8474\n",
      "Epoch 84/100\n",
      "5359/5359 [==============================] - 2s 329us/step - loss: 0.3379 - acc: 0.8597 - val_loss: 0.3692 - val_acc: 0.8485\n",
      "Epoch 85/100\n",
      "5359/5359 [==============================] - 2s 425us/step - loss: 0.3375 - acc: 0.8610 - val_loss: 0.3691 - val_acc: 0.8436\n",
      "Epoch 86/100\n",
      "5359/5359 [==============================] - 2s 402us/step - loss: 0.3370 - acc: 0.8621 - val_loss: 0.3700 - val_acc: 0.8497\n",
      "Epoch 87/100\n",
      "5359/5359 [==============================] - 2s 318us/step - loss: 0.3369 - acc: 0.8619 - val_loss: 0.3686 - val_acc: 0.8474\n",
      "Epoch 88/100\n",
      "5359/5359 [==============================] - 2s 309us/step - loss: 0.3369 - acc: 0.8630 - val_loss: 0.3683 - val_acc: 0.8440\n",
      "Epoch 89/100\n",
      "5359/5359 [==============================] - 1s 273us/step - loss: 0.3365 - acc: 0.8617 - val_loss: 0.3685 - val_acc: 0.8466\n",
      "Epoch 90/100\n",
      "5359/5359 [==============================] - 2s 300us/step - loss: 0.3361 - acc: 0.8623 - val_loss: 0.3678 - val_acc: 0.8501\n",
      "Epoch 91/100\n",
      "5359/5359 [==============================] - 2s 330us/step - loss: 0.3357 - acc: 0.8610 - val_loss: 0.3673 - val_acc: 0.8459\n",
      "Epoch 92/100\n",
      "5359/5359 [==============================] - 2s 292us/step - loss: 0.3353 - acc: 0.8627 - val_loss: 0.3668 - val_acc: 0.8455\n",
      "Epoch 93/100\n",
      "5359/5359 [==============================] - 2s 319us/step - loss: 0.3348 - acc: 0.8630 - val_loss: 0.3679 - val_acc: 0.8455\n",
      "Epoch 94/100\n",
      "5359/5359 [==============================] - 2s 338us/step - loss: 0.3351 - acc: 0.8614 - val_loss: 0.3670 - val_acc: 0.8459\n",
      "Epoch 95/100\n",
      "5359/5359 [==============================] - 2s 395us/step - loss: 0.3347 - acc: 0.8630 - val_loss: 0.3663 - val_acc: 0.8474\n",
      "Epoch 96/100\n",
      "5359/5359 [==============================] - 3s 485us/step - loss: 0.3339 - acc: 0.8615 - val_loss: 0.3675 - val_acc: 0.8455\n",
      "Epoch 97/100\n",
      "5359/5359 [==============================] - 2s 461us/step - loss: 0.3346 - acc: 0.8615 - val_loss: 0.3663 - val_acc: 0.8474\n",
      "Epoch 98/100\n",
      "5359/5359 [==============================] - 3s 469us/step - loss: 0.3345 - acc: 0.8625 - val_loss: 0.3664 - val_acc: 0.8482\n",
      "Epoch 99/100\n",
      "5359/5359 [==============================] - 2s 418us/step - loss: 0.3341 - acc: 0.8627 - val_loss: 0.3663 - val_acc: 0.8489\n",
      "Epoch 100/100\n",
      "5359/5359 [==============================] - 2s 330us/step - loss: 0.3341 - acc: 0.8632 - val_loss: 0.3657 - val_acc: 0.8470\n"
     ]
    }
   ],
   "source": [
    "## Fitting the ANN to training set\n",
    "model_history = classifier.fit(X_train,y_train,validation_split=0.33,batch_size=10, nb_epoch=100)"
   ]
  },
  {
   "cell_type": "code",
   "execution_count": 22,
   "metadata": {},
   "outputs": [],
   "source": [
    "import matplotlib.pyplot as plt"
   ]
  },
  {
   "cell_type": "code",
   "execution_count": 25,
   "metadata": {},
   "outputs": [
    {
     "name": "stdout",
     "output_type": "stream",
     "text": [
      "dict_keys(['val_loss', 'val_acc', 'loss', 'acc'])\n"
     ]
    }
   ],
   "source": [
    "# List all data in history\n",
    "\n",
    "print(model_history.history.keys())"
   ]
  },
  {
   "cell_type": "code",
   "execution_count": 26,
   "metadata": {},
   "outputs": [
    {
     "data": {
      "image/png": "[encoded data removed]",
      "text/plain": [
       "<Figure size 432x288 with 1 Axes>"
      ]
     },
     "metadata": {
      "needs_background": "light"
     },
     "output_type": "display_data"
    }
   ],
   "source": [
    "## Summarizing the history of accuracy\n",
    "\n",
    "plt.plot(model_history.history['acc'])\n",
    "plt.plot(model_history.history['val_acc'])\n",
    "plt.title('model accuracy')\n",
    "plt.ylabel('accuracy')\n",
    "plt.xlabel('epoch')\n",
    "plt.legend(['train','test'], loc='upper left')\n",
    "plt.show()"
   ]
  },
  {
   "cell_type": "code",
   "execution_count": 28,
   "metadata": {},
   "outputs": [
    {
     "data": {
      "image/png": "[encoded data removed]",
      "text/plain": [
       "<Figure size 432x288 with 1 Axes>"
      ]
     },
     "metadata": {
      "needs_background": "light"
     },
     "output_type": "display_data"
    }
   ],
   "source": [
    "## Summarizing the history of loss\n",
    "plt.plot(model_history.history['loss'])\n",
    "plt.plot(model_history.history['val_loss'])\n",
    "plt.title('model loss')\n",
    "plt.ylabel('loss')\n",
    "plt.xlabel('epoch')\n",
    "plt.legend(['train','test'],loc='upper left')\n",
    "plt.show()"
   ]
  },
  {
   "cell_type": "markdown",
   "metadata": {},
   "source": [
    "## Making the prediction and evaluating the model"
   ]
  },
  {
   "cell_type": "code",
   "execution_count": 30,
   "metadata": {},
   "outputs": [],
   "source": [
    "## Predicting the test results\n",
    "y_pred = classifier.predict(X_test)\n",
    "y_pred = (y_pred > 0.5)"
   ]
  },
  {
   "cell_type": "code",
   "execution_count": 32,
   "metadata": {},
   "outputs": [],
   "source": [
    "# Confusion matrix\n",
    "from sklearn.metrics import confusion_matrix\n",
    "cm = confusion_matrix(y_test,y_pred)"
   ]
  },
  {
   "cell_type": "code",
   "execution_count": 33,
   "metadata": {},
   "outputs": [],
   "source": [
    "# Calculate the accuracy\n",
    "from sklearn.metrics import accuracy_score\n",
    "score = accuracy_score(y_pred,y_test)"
   ]
  }
 ],
 "metadata": {
  "kernelspec": {
   "display_name": "Python 3",
   "language": "python",
   "name": "python3"
  },
  "language_info": {
   "codemirror_mode": {
    "name": "ipython",
    "version": 3
   },
   "file_extension": ".py",
   "mimetype": "text/x-python",
   "name": "python",
   "nbconvert_exporter": "python",
   "pygments_lexer": "ipython3",
   "version": "3.6.5"
  }
 },
 "nbformat": 4,
 "nbformat_minor": 2
}
